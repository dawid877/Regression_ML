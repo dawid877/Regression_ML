{
 "cells": [
  {
   "cell_type": "markdown",
   "id": "e9ae69f2",
   "metadata": {},
   "source": [
    "# Simple linear regession"
   ]
  },
  {
   "cell_type": "code",
   "execution_count": 5,
   "id": "ed042449",
   "metadata": {},
   "outputs": [],
   "source": [
    "import pandas as pd\n",
    "import numpy as np\n",
    "from sklearn.ensemble import RandomForestRegressor\n",
    "from sklearn.linear_model import LassoCV\n",
    "from sklearn.linear_model import LinearRegression\n",
    "from sklearn.model_selection import cross_val_score\n",
    "from sklearn.metrics import root_mean_squared_error"
   ]
  },
  {
   "cell_type": "code",
   "execution_count": 6,
   "id": "0cf020b1",
   "metadata": {},
   "outputs": [],
   "source": [
    "aparts_reduced = pd.read_csv('Datasets/aparts_train_ready.csv')"
   ]
  },
  {
   "cell_type": "code",
   "execution_count": 7,
   "id": "35c2d053",
   "metadata": {},
   "outputs": [
    {
     "data": {
      "text/plain": [
       "np.float64(0.10597872131802363)"
      ]
     },
     "execution_count": 7,
     "metadata": {},
     "output_type": "execute_result"
    }
   ],
   "source": [
    "# Prepare data\n",
    "X_reduced = aparts_reduced.drop(columns=['price_z', 'log_price_z'], errors='ignore')\n",
    "y_reduced = aparts_reduced['log_price_z']\n",
    "\n",
    "# Fit linear regression with 5-fold cross-validation\n",
    "lr = LinearRegression()\n",
    "cv_scores = cross_val_score(lr, X_reduced, y_reduced, cv=5, scoring='neg_root_mean_squared_error')\n",
    "\n",
    "# Report average RMSE across folds\n",
    "rmse_mean = -np.mean(cv_scores)\n",
    "rmse_mean"
   ]
  },
  {
   "cell_type": "code",
   "execution_count": null,
   "id": "d3d5098d",
   "metadata": {},
   "outputs": [
    {
     "name": "stdout",
     "output_type": "stream",
     "text": [
      "✅ Test RMSE (log scale): 0.106\n",
      "✅ Test RMSE (real price scale): 96970.44 currency units\n"
     ]
    }
   ],
   "source": [
    "# Custom RMSE function\n",
    "def root_mean_squared_error(y_true, y_pred):\n",
    "    return np.sqrt(mean_squared_error(y_true, y_pred))\n",
    "\n",
    "# Load test data\n",
    "aparts_test = pd.read_csv('Datasets/aparts_test_ready.csv')  # make sure this file is up-to-date\n",
    "\n",
    "# 1. Prepare training data\n",
    "X_train = aparts_reduced.drop(columns=['price_z', 'log_price_z', 'Unnamed: 0'], errors='ignore')\n",
    "y_train_log = aparts_reduced['log_price_z']\n",
    "\n",
    "# 2. Prepare test data\n",
    "X_test = aparts_test.drop(columns=['price_z', 'log_price_z', 'Unnamed: 0'], errors='ignore')\n",
    "y_test_log = aparts_test['log_price_z']\n",
    "y_test_price = aparts_test['price_z']\n",
    "\n",
    "# 3. Train final model on full training data\n",
    "lr = LinearRegression()\n",
    "lr.fit(X_train, y_train_log)\n",
    "\n",
    "# 4. Predict on test set\n",
    "y_pred_log = lr.predict(X_test)\n",
    "y_pred_price = np.expm1(y_pred_log)\n",
    "\n",
    "# 5. Evaluate\n",
    "rmse_log = root_mean_squared_error(y_test_log, y_pred_log)\n",
    "rmse_real = root_mean_squared_error(y_test_price, y_pred_price)\n",
    "\n",
    "# 6. Report results\n",
    "print(\"✅ Test RMSE (log scale):\", round(rmse_log, 4))\n",
    "print(\"✅ Test RMSE (real price scale):\", round(rmse_real, 2), \"currency units\")"
   ]
  },
  {
   "cell_type": "markdown",
   "id": "df26e981",
   "metadata": {},
   "source": [
    "# Lasso regression"
   ]
  },
  {
   "cell_type": "code",
   "execution_count": 14,
   "id": "5047dfa0",
   "metadata": {},
   "outputs": [
    {
     "name": "stdout",
     "output_type": "stream",
     "text": [
      "✅ Lasso Test RMSE (log scale): 0.1084\n",
      "✅ Lasso Test RMSE (real price scale): 97857.75 currency units\n"
     ]
    }
   ],
   "source": [
    "import pandas as pd\n",
    "import numpy as np\n",
    "from sklearn.linear_model import Lasso\n",
    "from sklearn.metrics import mean_squared_error\n",
    "\n",
    "# Custom RMSE function\n",
    "def root_mean_squared_error(y_true, y_pred):\n",
    "    return np.sqrt(mean_squared_error(y_true, y_pred))\n",
    "\n",
    "# Load test data\n",
    "aparts_test = pd.read_csv('Datasets/aparts_test_ready.csv')\n",
    "\n",
    "# 1. Prepare training data\n",
    "X_train = aparts_reduced.drop(columns=['price_z', 'log_price_z', 'Unnamed: 0'], errors='ignore')\n",
    "y_train_log = aparts_reduced['log_price_z']\n",
    "\n",
    "# 2. Prepare test data\n",
    "X_test = aparts_test.drop(columns=['price_z', 'log_price_z', 'Unnamed: 0'], errors='ignore')\n",
    "y_test_log = aparts_test['log_price_z']\n",
    "y_test_price = aparts_test['price_z']\n",
    "\n",
    "# 🔧 Ensure both train and test have the same features in the same order\n",
    "X_test = X_test[X_train.columns]\n",
    "\n",
    "# 3. Fit final Lasso model\n",
    "lasso = Lasso(alpha=0.001, max_iter=10000, random_state=42)\n",
    "lasso.fit(X_train, y_train_log)\n",
    "\n",
    "# 4. Predict\n",
    "y_pred_log_lasso = lasso.predict(X_test)\n",
    "y_pred_price_lasso = np.expm1(y_pred_log_lasso)\n",
    "\n",
    "# 5. Evaluate\n",
    "rmse_log_lasso = root_mean_squared_error(y_test_log, y_pred_log_lasso)\n",
    "rmse_real_lasso = root_mean_squared_error(y_test_price, y_pred_price_lasso)\n",
    "\n",
    "# 6. Report\n",
    "print(\"✅ Lasso Test RMSE (log scale):\", round(rmse_log_lasso, 4))\n",
    "print(\"✅ Lasso Test RMSE (real price scale):\", round(rmse_real_lasso, 2), \"currency units\")\n"
   ]
  },
  {
   "cell_type": "markdown",
   "id": "cc55ffd3",
   "metadata": {},
   "source": [
    "Now, let's run Lasso again, but with hyperparameter tunning"
   ]
  },
  {
   "cell_type": "code",
   "execution_count": 16,
   "id": "3b62e3e6",
   "metadata": {},
   "outputs": [
    {
     "name": "stdout",
     "output_type": "stream",
     "text": [
      "✅ Best alpha: 0.0004889832730135739\n",
      "✅ LassoCV Test RMSE (log scale): 0.1069\n",
      "✅ LassoCV Test RMSE (real price scale): 97073.66 currency units\n"
     ]
    }
   ],
   "source": [
    "import pandas as pd\n",
    "import numpy as np\n",
    "from sklearn.linear_model import LassoCV\n",
    "from sklearn.metrics import mean_squared_error\n",
    "\n",
    "# Custom RMSE function\n",
    "def root_mean_squared_error(y_true, y_pred):\n",
    "    return np.sqrt(mean_squared_error(y_true, y_pred))\n",
    "\n",
    "# Load test data\n",
    "aparts_test = pd.read_csv('Datasets/aparts_test_ready.csv')\n",
    "\n",
    "# 1. Prepare training data\n",
    "X_train = aparts_reduced.drop(columns=['price_z', 'log_price_z', 'Unnamed: 0'], errors='ignore')\n",
    "y_train_log = aparts_reduced['log_price_z']\n",
    "\n",
    "# 2. Prepare test data\n",
    "X_test = aparts_test.drop(columns=['price_z', 'log_price_z', 'Unnamed: 0'], errors='ignore')\n",
    "y_test_log = aparts_test['log_price_z']\n",
    "y_test_price = aparts_test['price_z']\n",
    "\n",
    "# 🔒 Ensure test set columns match training set exactly\n",
    "X_test = X_test.reindex(columns=X_train.columns, fill_value=0)\n",
    "\n",
    "# 3. Tune alpha using LassoCV\n",
    "lasso_cv = LassoCV(cv=5, random_state=42, max_iter=10000)\n",
    "lasso_cv.fit(X_train, y_train_log)\n",
    "\n",
    "# 4. Predict using the fitted model\n",
    "best_alpha = lasso_cv.alpha_\n",
    "y_pred_log = lasso_cv.predict(X_test)\n",
    "y_pred_price = np.expm1(y_pred_log)\n",
    "\n",
    "# 5. Evaluate\n",
    "rmse_log = root_mean_squared_error(y_test_log, y_pred_log)\n",
    "rmse_real = root_mean_squared_error(y_test_price, y_pred_price)\n",
    "\n",
    "# 6. Report results\n",
    "print(f\"✅ Best alpha: {best_alpha}\")\n",
    "print(\"✅ LassoCV Test RMSE (log scale):\", round(rmse_log, 4))\n",
    "print(\"✅ LassoCV Test RMSE (real price scale):\", round(rmse_real, 2), \"currency units\")"
   ]
  },
  {
   "cell_type": "markdown",
   "id": "52d1a294",
   "metadata": {},
   "source": [
    "## Random Forest"
   ]
  },
  {
   "cell_type": "code",
   "execution_count": 18,
   "id": "a823cac6",
   "metadata": {},
   "outputs": [
    {
     "name": "stdout",
     "output_type": "stream",
     "text": [
      "✅ Random Forest RMSE (log scale): 0.1083\n",
      "✅ Random Forest RMSE (real price scale): 97378.98 currency units\n"
     ]
    }
   ],
   "source": [
    "import pandas as pd\n",
    "import numpy as np\n",
    "from sklearn.ensemble import RandomForestRegressor\n",
    "from sklearn.metrics import mean_squared_error\n",
    "\n",
    "# Custom RMSE function\n",
    "def root_mean_squared_error(y_true, y_pred):\n",
    "    return np.sqrt(mean_squared_error(y_true, y_pred))\n",
    "\n",
    "# Load test data\n",
    "aparts_test = pd.read_csv('Datasets/aparts_test_ready.csv')\n",
    "\n",
    "# 1. Prepare training data\n",
    "X_train = aparts_reduced.drop(columns=['price_z', 'log_price_z', 'Unnamed: 0'], errors='ignore')\n",
    "y_train_log = aparts_reduced['log_price_z']\n",
    "\n",
    "# 2. Prepare test data\n",
    "X_test = aparts_test.drop(columns=['price_z', 'log_price_z', 'Unnamed: 0'], errors='ignore')\n",
    "y_test_log = aparts_test['log_price_z']\n",
    "y_test_price = aparts_test['price_z']\n",
    "\n",
    "# 3. Align test set columns with training set\n",
    "X_test = X_test.reindex(columns=X_train.columns, fill_value=0)\n",
    "\n",
    "# 4. Train Random Forest Regressor\n",
    "rf = RandomForestRegressor(\n",
    "    n_estimators=100,\n",
    "    max_depth=None,\n",
    "    random_state=42,\n",
    "    n_jobs=1\n",
    ")\n",
    "rf.fit(X_train, y_train_log)\n",
    "\n",
    "# 5. Predict on test set\n",
    "y_pred_log = rf.predict(X_test)\n",
    "y_pred_price = np.expm1(y_pred_log)\n",
    "\n",
    "# 6. Evaluate\n",
    "rmse_log = root_mean_squared_error(y_test_log, y_pred_log)\n",
    "rmse_real = root_mean_squared_error(y_test_price, y_pred_price)\n",
    "\n",
    "# 7. Report results\n",
    "print(\"✅ Random Forest RMSE (log scale):\", round(rmse_log, 4))\n",
    "print(\"✅ Random Forest RMSE (real price scale):\", round(rmse_real, 2), \"currency units\")\n"
   ]
  }
 ],
 "metadata": {
  "kernelspec": {
   "display_name": "Python 3",
   "language": "python",
   "name": "python3"
  },
  "language_info": {
   "codemirror_mode": {
    "name": "ipython",
    "version": 3
   },
   "file_extension": ".py",
   "mimetype": "text/x-python",
   "name": "python",
   "nbconvert_exporter": "python",
   "pygments_lexer": "ipython3",
   "version": "3.13.0"
  }
 },
 "nbformat": 4,
 "nbformat_minor": 5
}
